{
  "nbformat": 4,
  "nbformat_minor": 0,
  "metadata": {
    "colab": {
      "provenance": []
    },
    "kernelspec": {
      "name": "python3",
      "display_name": "Python 3"
    },
    "language_info": {
      "name": "python"
    }
  },
  "cells": [
    {
      "cell_type": "markdown",
      "metadata": {
        "id": "vS1O4BW82LV6"
      },
      "source": [
        "# 0. Lab Preparation\n",
        "\n",
        "1.  Study and have clear the concepts explained in the theoretical class and the introductory lab.\n",
        "\n",
        "2.   Gain experience with the use of the [Selenium](https://https://www.selenium.dev/). The exercises of this lab will be mainly based on the utilization of functions offered by this library.\n",
        "\n",
        "3. It is assumed students have experience in using Python notebooks. Either a local installation (e.g., local python installation + Jupyter) or a cloud-based solution (e.g., Google Colab). *We recommend the second option*."
      ]
    },
    {
      "cell_type": "markdown",
      "metadata": {
        "id": "6n0z8mcBUFWY"
      },
      "source": [
        "<img src=\"https://www.uc3m.es/ss/Satellite?blobcol=urldata&blobkey=id&blobtable=MungoBlobs&blobwhere=1371573952659\">\n",
        "\n",
        "---\n",
        "\n",
        "# WEB ANALYTICS COURSE 4 - SEMESTER 2\n",
        "# BACHELOR IN DATA SCIENCE AND ENGINEERING\n",
        "\n",
        "# LAB 1.3 WEB SCRAPING WITH SELENIUM\n",
        "\n",
        "---"
      ]
    },
    {
      "cell_type": "markdown",
      "source": [
        "## Marta Almagro, Annunziata Álvarez-Cascos, Beltrán Valero and Gracia Estrán"
      ],
      "metadata": {
        "id": "5YTVsN08QeAt"
      }
    },
    {
      "cell_type": "markdown",
      "metadata": {
        "id": "nwlGXDUG2db2"
      },
      "source": [
        "# 1. Lab Introduction"
      ]
    },
    {
      "cell_type": "markdown",
      "metadata": {
        "id": "ypNv8Fpi2YS7"
      },
      "source": [
        "* In this lab, we will implement a web scraper using [Selenium](https://https://www.selenium.dev/). One of the tools explained in the theoretical class.\n",
        "\n",
        "* The lab will be done in groups of 4 people.\n",
        "\n",
        "* The lab defines a set of milestones the students must complete. Upon completing all the milestones, students should call the professor, who will check the correctness of the solution (*If the professor is busy, do not wait for them, move to the next lab*).\n",
        "\n",
        "* **The final mark will be computed as a function of the number of milestones successfully completed.**\n",
        "\n",
        "* **Each group should also share their lab notebook with the professor upon the finalization of the lab.**\n",
        "\n",
        "* In this lab we will use the [Selenium](https://https://www.selenium.dev/) library for the creation of a web scraper, to extract information from the web. As indicated in the *Lab Preparation* section above, it is expected that students have gained experience in the use of the library before starting the first session of the lab.\n",
        "\n",
        "- It is recommended to use [Google Colab](https://colab.research.google.com/) to produce the Python notebook with the solution of the lab. Of course, if any student prefers using its local programming environment (e.g., jupyter) and python installation, they are welcome to do so."
      ]
    },
    {
      "cell_type": "code",
      "metadata": {
        "id": "3teIPraMwf4t",
        "colab": {
          "base_uri": "https://localhost:8080/"
        },
        "outputId": "285b8eb6-50a4-43cc-a2b9-307df4f7723c"
      },
      "source": [
        "!apt update\n",
        "!apt install chromium-chromedriver\n",
        "!pip install selenium"
      ],
      "execution_count": 136,
      "outputs": [
        {
          "output_type": "stream",
          "name": "stdout",
          "text": [
            "\u001b[33m\r0% [Working]\u001b[0m\r            \rGet:1 http://security.ubuntu.com/ubuntu jammy-security InRelease [110 kB]\n",
            "\u001b[33m\r0% [Connecting to archive.ubuntu.com (185.125.190.39)] [1 InRelease 14.2 kB/110\u001b[0m\r                                                                               \rHit:2 https://cloud.r-project.org/bin/linux/ubuntu jammy-cran40/ InRelease\n",
            "\u001b[33m\r0% [Connecting to archive.ubuntu.com (185.125.190.39)] [1 InRelease 51.8 kB/110\u001b[0m\r                                                                               \rHit:3 https://developer.download.nvidia.com/compute/cuda/repos/ubuntu2204/x86_64  InRelease\n",
            "Hit:4 http://archive.ubuntu.com/ubuntu jammy InRelease\n",
            "Get:5 http://archive.ubuntu.com/ubuntu jammy-updates InRelease [119 kB]\n",
            "Hit:6 https://ppa.launchpadcontent.net/c2d4u.team/c2d4u4.0+/ubuntu jammy InRelease\n",
            "Get:7 http://security.ubuntu.com/ubuntu jammy-security/universe amd64 Packages [998 kB]\n",
            "Get:8 http://archive.ubuntu.com/ubuntu jammy-backports InRelease [109 kB]\n",
            "Hit:9 https://ppa.launchpadcontent.net/deadsnakes/ppa/ubuntu jammy InRelease\n",
            "Get:10 http://archive.ubuntu.com/ubuntu jammy-updates/multiverse amd64 Packages [49.9 kB]\n",
            "Hit:11 https://ppa.launchpadcontent.net/graphics-drivers/ppa/ubuntu jammy InRelease\n",
            "Get:12 http://archive.ubuntu.com/ubuntu jammy-updates/main amd64 Packages [1,284 kB]\n",
            "Hit:13 https://ppa.launchpadcontent.net/ubuntugis/ppa/ubuntu jammy InRelease\n",
            "Get:14 http://archive.ubuntu.com/ubuntu jammy-updates/restricted amd64 Packages [1,158 kB]\n",
            "Get:15 http://archive.ubuntu.com/ubuntu jammy-updates/universe amd64 Packages [1,263 kB]\n",
            "Fetched 5,091 kB in 3s (1,790 kB/s)\n",
            "Reading package lists... Done\n",
            "Building dependency tree... Done\n",
            "Reading state information... Done\n",
            "18 packages can be upgraded. Run 'apt list --upgradable' to see them.\n",
            "Reading package lists... Done\n",
            "Building dependency tree... Done\n",
            "Reading state information... Done\n",
            "chromium-chromedriver is already the newest version (1:85.0.4183.83-0ubuntu2.22.04.1).\n",
            "0 upgraded, 0 newly installed, 0 to remove and 18 not upgraded.\n",
            "Requirement already satisfied: selenium in /usr/local/lib/python3.10/dist-packages (4.13.0)\n",
            "Requirement already satisfied: urllib3[socks]<3,>=1.26 in /usr/local/lib/python3.10/dist-packages (from selenium) (2.0.4)\n",
            "Requirement already satisfied: trio~=0.17 in /usr/local/lib/python3.10/dist-packages (from selenium) (0.22.2)\n",
            "Requirement already satisfied: trio-websocket~=0.9 in /usr/local/lib/python3.10/dist-packages (from selenium) (0.11.1)\n",
            "Requirement already satisfied: certifi>=2021.10.8 in /usr/local/lib/python3.10/dist-packages (from selenium) (2023.7.22)\n",
            "Requirement already satisfied: attrs>=20.1.0 in /usr/local/lib/python3.10/dist-packages (from trio~=0.17->selenium) (23.1.0)\n",
            "Requirement already satisfied: sortedcontainers in /usr/local/lib/python3.10/dist-packages (from trio~=0.17->selenium) (2.4.0)\n",
            "Requirement already satisfied: idna in /usr/local/lib/python3.10/dist-packages (from trio~=0.17->selenium) (3.4)\n",
            "Requirement already satisfied: outcome in /usr/local/lib/python3.10/dist-packages (from trio~=0.17->selenium) (1.2.0)\n",
            "Requirement already satisfied: sniffio in /usr/local/lib/python3.10/dist-packages (from trio~=0.17->selenium) (1.3.0)\n",
            "Requirement already satisfied: exceptiongroup>=1.0.0rc9 in /usr/local/lib/python3.10/dist-packages (from trio~=0.17->selenium) (1.1.3)\n",
            "Requirement already satisfied: wsproto>=0.14 in /usr/local/lib/python3.10/dist-packages (from trio-websocket~=0.9->selenium) (1.2.0)\n",
            "Requirement already satisfied: pysocks!=1.5.7,<2.0,>=1.5.6 in /usr/local/lib/python3.10/dist-packages (from urllib3[socks]<3,>=1.26->selenium) (1.7.1)\n",
            "Requirement already satisfied: h11<1,>=0.9.0 in /usr/local/lib/python3.10/dist-packages (from wsproto>=0.14->trio-websocket~=0.9->selenium) (0.14.0)\n"
          ]
        }
      ]
    },
    {
      "cell_type": "code",
      "source": [
        "# set options to be headless\n",
        "from selenium import webdriver\n",
        "from selenium.webdriver.common.by import By\n",
        "\n",
        "options = webdriver.ChromeOptions()\n",
        "options.add_argument('--headless')\n",
        "options.add_argument('--no-sandbox')\n",
        "options.add_argument('--disable-dev-shm-usage')\n",
        "# open it, go to a website, and get results\n",
        "driver = webdriver.Chrome(options = options)"
      ],
      "metadata": {
        "id": "g6DSpoB34oVP"
      },
      "execution_count": 137,
      "outputs": []
    },
    {
      "cell_type": "markdown",
      "metadata": {
        "id": "h6Apdrzn2s18"
      },
      "source": [
        "# MILESTONE 1\n",
        "\n",
        "a) Access to the website [BACHELOR IN DATA SCIENCE AND ENGINEERING\n",
        "](https://www.uc3m.es/bachelor-degree/data-science)\n",
        "\n",
        "b) Find the element tag with `id=\"program\"` and print the result\n",
        "\n",
        "c) Find the table inside PROGRAM for Course 1 - Semester 1 and print the result\n"
      ]
    },
    {
      "cell_type": "code",
      "metadata": {
        "id": "KoiDgC1yM-gF"
      },
      "source": [
        "# a)\n",
        "url = \"https://www.uc3m.es/bachelor-degree/data-science\"\n",
        "driver.get(url)"
      ],
      "execution_count": 138,
      "outputs": []
    },
    {
      "cell_type": "code",
      "metadata": {
        "id": "YmJMtH2vXYog",
        "colab": {
          "base_uri": "https://localhost:8080/"
        },
        "outputId": "725f9544-0712-43d9-e121-97e695b81b18"
      },
      "source": [
        "# b)\n",
        "program = driver.find_element(By.ID, \"program\")\n",
        "print(program.text)"
      ],
      "execution_count": 139,
      "outputs": [
        {
          "output_type": "stream",
          "name": "stdout",
          "text": [
            "PROGRAM\n"
          ]
        }
      ]
    },
    {
      "cell_type": "code",
      "source": [
        "# c)\n",
        "# find the wanted table\n",
        "tables = driver.find_elements(By.TAG_NAME, 'table')\n",
        "course_semester1 = tables[0].find_elements(By.TAG_NAME, 'td') #tables has all tables in the website. For first semester first year, first table\n",
        "for i in course_semester1:\n",
        "  print(i.get_attribute('data-label'))\n",
        "  print(i.get_attribute('innerHTML'))"
      ],
      "metadata": {
        "id": "7NTHksYY5rfE",
        "colab": {
          "base_uri": "https://localhost:8080/"
        },
        "outputId": "8f17f353-597c-480a-cbed-77f5e83a164a"
      },
      "execution_count": 140,
      "outputs": [
        {
          "output_type": "stream",
          "name": "stdout",
          "text": [
            "Subject\n",
            "<a href=\"https://aplicaciones.uc3m.es/cpa/generaFicha?&amp;est=350&amp;plan=392&amp;asig=16472&amp;idioma=2\">Calculus I</a>\n",
            "ECTS\n",
            "6\n",
            "TYPE\n",
            "BC\n",
            "Language\n",
            "<img class=\"idioma_img\" src=\"/base/media/base/img/decorativa/IMG_Comunes_IdiomaEN_Square/ingles.jpg\" alt=\"English\">\n",
            "Subject\n",
            "<a href=\"https://aplicaciones.uc3m.es/cpa/generaFicha?&amp;est=350&amp;plan=392&amp;asig=16475&amp;idioma=2\">Introduction to Data Science</a>\n",
            "ECTS\n",
            "6\n",
            "TYPE\n",
            "BC\n",
            "Language\n",
            "<img class=\"idioma_img\" src=\"/base/media/base/img/decorativa/IMG_Comunes_IdiomaEN_Square/ingles.jpg\" alt=\"English\">\n",
            "Subject\n",
            "<a href=\"https://aplicaciones.uc3m.es/cpa/generaFicha?&amp;est=350&amp;plan=392&amp;asig=16266&amp;idioma=2\">Linear algebra</a>\n",
            "ECTS\n",
            "6\n",
            "TYPE\n",
            "BC\n",
            "Language\n",
            "<img class=\"idioma_img\" src=\"/base/media/base/img/decorativa/IMG_Comunes_IdiomaEN_Square/ingles.jpg\" alt=\"English\">\n",
            "Subject\n",
            "<a href=\"https://aplicaciones.uc3m.es/cpa/generaFicha?&amp;est=350&amp;plan=392&amp;asig=16477&amp;idioma=2\">Probability and Data Analysis</a>\n",
            "ECTS\n",
            "6\n",
            "TYPE\n",
            "BC\n",
            "Language\n",
            "<img class=\"idioma_img\" src=\"/base/media/base/img/decorativa/IMG_Comunes_IdiomaEN_Square/ingles.jpg\" alt=\"English\">\n",
            "Subject\n",
            "<a href=\"https://aplicaciones.uc3m.es/cpa/generaFicha?&amp;est=350&amp;plan=392&amp;asig=16480&amp;idioma=2\">Programming</a>\n",
            "ECTS\n",
            "6\n",
            "TYPE\n",
            "BC\n",
            "Language\n",
            "<img class=\"idioma_img\" src=\"/base/media/base/img/decorativa/IMG_Comunes_IdiomaEN_Square/ingles.jpg\" alt=\"English\">\n"
          ]
        }
      ]
    },
    {
      "cell_type": "markdown",
      "metadata": {
        "id": "y_FDSKQs25eV"
      },
      "source": [
        "# MILESTONE 2\n",
        "\n",
        "a) Obtain the link to Web Analytics course by finding the corresponding element in the source code.\n",
        "\n",
        "b) Access to this URL by clicking in the link.\n",
        "\n",
        "c) Print the text inside the _Learning activities and methodology_ section."
      ]
    },
    {
      "cell_type": "code",
      "source": [
        "#a)\n",
        "link = driver.find_element(By.XPATH, '//a[text()=\"Web Analytics\"]')\n",
        "print(link.get_attribute('href'))"
      ],
      "metadata": {
        "colab": {
          "base_uri": "https://localhost:8080/"
        },
        "id": "1coe9OpVNU8B",
        "outputId": "6c3a186a-2497-4ad9-937b-03e57b32fed3"
      },
      "execution_count": 141,
      "outputs": [
        {
          "output_type": "stream",
          "name": "stdout",
          "text": [
            "https://aplicaciones.uc3m.es/cpa/generaFicha?&est=350&plan=392&asig=16507&idioma=2\n"
          ]
        }
      ]
    },
    {
      "cell_type": "code",
      "metadata": {
        "id": "3lSAhVivip3R"
      },
      "source": [
        "#b)\n",
        "driver.execute_script('arguments[0].click()',link)"
      ],
      "execution_count": 142,
      "outputs": []
    },
    {
      "cell_type": "code",
      "source": [
        "# c)\n",
        "section = driver.find_elements(By.CLASS_NAME, \"tarea\")\n",
        "print(section[3].text)\n",
        "\n",
        "driver.quit()"
      ],
      "metadata": {
        "colab": {
          "base_uri": "https://localhost:8080/"
        },
        "id": "6RTI56JkHucK",
        "outputId": "51c4e8a5-af91-4fa9-eade-f46565add25d"
      },
      "execution_count": 143,
      "outputs": [
        {
          "output_type": "stream",
          "name": "stdout",
          "text": [
            "The course will be based in the following activities:\n",
            "\n",
            "- LECTURES: theoretical lessons that will introduce the main concepts of the course. Students participation to discuss the concepts and problems introduced in the lectures will be encouraged.\n",
            "\n",
            "- LABS: practical lessons in which students will bring to practice the concepts introduced in lectures. Students will have to solve practical problems associated to web analytics.\n",
            "\n",
            "- FINAL GROUP PROJECT: Students will be assigned a project that will be developed throughout the semester in groups of 2 oe 3 people. Students should propose their own project. In exceptional cases the professors may offer a list of projects to students. The responsible professor has to approve the student proposal. The project will include the following elements: \n",
            " 1- An initial definition of the goals of the project, technology used and expected results\n",
            " 2- Use of any of the data collection studied to retrieve information from some popular online service or social network.\n",
            "3- Data analysis using up to date technological frameworks (for instance python, R, etc).\n",
            "4- Results visualization.\n",
            "\n",
            "The students will defend their project in a public exposition to the rest of students at the end of the semester. \n",
            "\n",
            "There will be a number of lab classes that will be used to supervise the evolution of the project and to allow students progressing in its development.\n",
            "\n",
            "OFFICE HOURS: The students will get access to meetings with professors every week individually or collectively in order to clarify theorical and/or practical concepts. In addition, these meetings are valid to access to a more detailed supervision of student projects.\n"
          ]
        }
      ]
    },
    {
      "cell_type": "markdown",
      "metadata": {
        "id": "CyZCe1gYam13"
      },
      "source": [
        "# MILESTONE 3\n",
        "\n",
        "Now let's build the first steps for a price monitoring website. For that, we are going to use yamovil.com to obtain car prices. Specifically, we want to find SEAT cars in Madrid and the price of each of them.\n",
        "\n",
        "Follow these steps:\n",
        "\n",
        "a) Check https://www.yamovil.es/robots.txt and see if the site can be crawled or not for our specific search. Explain.\n",
        "\n",
        "b) If yes, use this [URL](https://www.yamovil.es/coches-segunda-mano/seat-ocasion-en-madrid) which already includes the indicated search (SEAT Cars Madrid Second Hand), print the cookies banner text and accept the cookies by clicking on the accept button.\n",
        "\n",
        "c) Scrape the HTML using _Selenium_, and print the **mark**, **model**, **version** and **price** of each available car.\n",
        "\n",
        "d) Click on the last car, print the new url where you have navigated to and print the location of the car (\"este coche se encuentra en ...\").\n",
        "\n",
        "**HINT**: do not forget to quit the driver at the end of your code with `driver.quit()`"
      ]
    },
    {
      "cell_type": "code",
      "source": [
        "# set options to be headless\n",
        "from selenium import webdriver\n",
        "from selenium.webdriver.common.by import By\n",
        "\n",
        "options = webdriver.ChromeOptions()\n",
        "options.add_argument('--headless')\n",
        "options.add_argument('--no-sandbox')\n",
        "options.add_argument('--disable-dev-shm-usage')\n",
        "# open it, go to a website, and get results\n",
        "driver = webdriver.Chrome(options = options)"
      ],
      "metadata": {
        "id": "WPQlcj6_cG2H"
      },
      "execution_count": 144,
      "outputs": []
    },
    {
      "cell_type": "code",
      "metadata": {
        "id": "yMMiET8RbfCT"
      },
      "source": [
        "# a)\n",
        "url = \"https://www.yamovil.es/robots.txt\"\n",
        "driver.get(url)"
      ],
      "execution_count": 145,
      "outputs": []
    },
    {
      "cell_type": "markdown",
      "source": [
        "We can see in the robots.txt file that all users or web crawlers (User-agent: *) are not allowed to crawl the web page url (https://www.yamovil.es) followed by any of the following:\n",
        "\n",
        "/admin/\n",
        "\n",
        "/feed/\n",
        "\n",
        "/goal/\n",
        "\n",
        "/sobre-coches-y-concesionarios/category/\n",
        "\n",
        "/sobre-coches-y-concesionarios/articulos/\n",
        "\n",
        "/sobre-coches-y-concesionarios/author/\n",
        "\n",
        "For our specific search, we do not need to crawl from any of those urls, so it will be possible for us."
      ],
      "metadata": {
        "id": "7sCeyaj3cg8g"
      }
    },
    {
      "cell_type": "code",
      "metadata": {
        "id": "oCmp59j5cz7u",
        "colab": {
          "base_uri": "https://localhost:8080/"
        },
        "outputId": "27729a51-ca6b-43ab-c5c7-3d140fdc7800"
      },
      "source": [
        "# b) NO ME APARECE EL BANNER DE COOKIES\n",
        "url = \"https://www.yamovil.es/coches-segunda-mano/seat-ocasion-en-madrid\"\n",
        "driver.get(url)\n",
        "\n",
        "from selenium import webdriver\n",
        "chrome_options = webdriver.ChromeOptions()\n",
        "chrome_options.add_argument(\"--incognito\") #turn to incognito mode to see cookies\n",
        "\n",
        "elem = driver.find_element(By.ID, 'CybotCookiebotDialogBodyContentText')\n",
        "print(elem.text)\n",
        "\n",
        "driver.find_element(By.XPATH, '//button[contains(text(), \"Permitir todas\")]').click()"
      ],
      "execution_count": 146,
      "outputs": [
        {
          "output_type": "stream",
          "name": "stdout",
          "text": [
            "Las cookies de este sitio web se usan para personalizar el contenido y los anuncios, ofrecer funciones de redes sociales y analizar el tráfico. Además, compartimos información sobre el uso que haga del sitio web con nuestros partners de redes sociales, publicidad y análisis web, quienes pueden combinarla con otra información que les haya proporcionado o que hayan recopilado a partir del uso que haya hecho de sus servicios.\n"
          ]
        }
      ]
    },
    {
      "cell_type": "code",
      "source": [
        "# c)\n",
        "vlist = driver.find_elements(By.CLASS_NAME, 'vehicle-list__item')\n",
        "\n",
        "for i in vlist:\n",
        "  print(i.find_element(By.CLASS_NAME, 'make').get_attribute('innerHTML'))\n",
        "  print(i.find_element(By.CLASS_NAME, 'model').get_attribute('innerHTML'))\n",
        "  print(i.find_element(By.CLASS_NAME, 'version').get_attribute('innerHTML'))\n",
        "  print(i.find_element(By.CLASS_NAME, 'price').get_attribute('innerHTML'))"
      ],
      "metadata": {
        "id": "vBMcrn7dtzrn",
        "colab": {
          "base_uri": "https://localhost:8080/"
        },
        "outputId": "baae81da-e675-4cf5-fe2a-a8e69730a8f6"
      },
      "execution_count": 147,
      "outputs": [
        {
          "output_type": "stream",
          "name": "stdout",
          "text": [
            "Seat\n",
            "Ibiza\n",
            "1.9 TDI Sport DPF 77 kW (105 CV)\n",
            "7.900<span class=\"symbol\">€</span>\n",
            "Seat\n",
            "Ibiza\n",
            "1.0 EcoTSI Style 70 kW (95 CV)\n",
            "11.950<span class=\"symbol\">€</span>\n",
            "Seat\n",
            "Leon ST\n",
            "LEON ST 2.0 TDI 150CV FR 5P.\n",
            "15.450<span class=\"symbol\">€</span>\n",
            "Seat\n",
            "Arona\n",
            "1.0 TSI Style 81 kW (110 CV)\n",
            "14.950<span class=\"symbol\">€</span>\n",
            "Seat\n",
            "Leon\n",
            "1.5 TSI SANDS FR Edition 96 kW (130 CV)\n",
            "17.950<span class=\"symbol\">€</span>\n",
            "Seat\n",
            "Leon ST\n",
            "1.5 EcoTSI SANDS FR Fast Edition Plus DSG 110 kW (150 CV)\n",
            "21.650<span class=\"symbol\">€</span>\n",
            "Seat\n",
            "Ateca\n",
            "2.0 TDI SANDS Xcellence 4Drive 110 kW (150 CV)\n",
            "17.850<span class=\"symbol\">€</span>\n",
            "Seat\n",
            "Ibiza\n",
            "1.6 TDI Reference 66 kW (90 CV)\n",
            "8.900<span class=\"symbol\">€</span>\n",
            "Seat\n",
            "Leon\n",
            "1.5 TSI SANDS FR 110 kW (150 CV)\n",
            "19.950<span class=\"symbol\">€</span>\n",
            "Seat\n",
            "Ibiza\n",
            "1.2 TSI Style 66 kW (90 CV)\n",
            "10.950<span class=\"symbol\">€</span>\n",
            "Seat\n",
            "Ibiza\n",
            "TSI 90CV 5P PACK LL/AA\n",
            "9.950<span class=\"symbol\">€</span>\n",
            "Seat\n",
            "Ibiza\n",
            "1.0 TGI GNC SANDS Style 66 kW (90 CV)\n",
            "10.450<span class=\"symbol\">€</span>\n",
            "Seat\n",
            "Arona\n",
            "SEAT ARONA 1.0 TSI 95 CV STYLE 5P\n",
            "15.450<span class=\"symbol\">€</span>\n",
            "Seat\n",
            "Leon ST\n",
            "2.0 TSI SANDS Cupra 221 kW (300 CV)\n",
            "24.950<span class=\"symbol\">€</span>\n",
            "Seat\n",
            "Leon\n",
            "2.0 TDI SANDS Xcellence 110 kW (150 CV)\n",
            "15.750<span class=\"symbol\">€</span>\n",
            "Seat\n",
            "Leon\n",
            "2.0 TDI SANDS FR Plus 110 kW (150 CV)\n",
            "19.990<span class=\"symbol\">€</span>\n",
            "Seat\n",
            "Exeo\n",
            "2.0 TDI CR Style Multitronic 105 kW (143 CV)\n",
            "10.950<span class=\"symbol\">€</span>\n",
            "Seat\n",
            "Leon ST\n",
            "1.4 TSI ACT SANDS FR DSG7 110 kW (150 CV)\n",
            "17.990<span class=\"symbol\">€</span>\n",
            "Seat\n",
            "Ibiza\n",
            "1.2 TSI SANDS FR 66 kW (90 CV)\n",
            "14.400<span class=\"symbol\">€</span>\n",
            "Seat\n",
            "Arona\n",
            "1.0 TSI Ecomotive Reference Plus 70 kW (95 CV)\n",
            "12.950<span class=\"symbol\">€</span>\n",
            "Seat\n",
            "Leon SC\n",
            "1.4 TSI SANDS FR 92 kW (125 CV)\n",
            "16.990<span class=\"symbol\">€</span>\n",
            "Seat\n",
            "Mii\n",
            "1.0 Cosmopolitan Top 55 kW (75 CV)\n",
            "9.450<span class=\"symbol\">€</span>\n",
            "Seat\n",
            "Ibiza\n",
            "1.6 TDI CR SANDS Style 70 kW (95 CV)\n",
            "12.950<span class=\"symbol\">€</span>\n",
            "Seat\n",
            "Leon\n",
            "2.0 TDI SANDS FR 110 kW (150 CV)\n",
            "16.650<span class=\"symbol\">€</span>\n",
            "Seat\n",
            "Leon ST\n",
            "2.0 TDI SANDS FR Fast Edition DSG 110 kW (150 CV)\n",
            "23.950<span class=\"symbol\">€</span>\n",
            "Seat\n",
            "Ateca\n",
            "1.5 TSI SANDS X-Perience 110 kW (150 CV)\n",
            "23.950<span class=\"symbol\">€</span>\n",
            "Seat\n",
            "Leon Xperience\n",
            "2.0 TDI SANDS X-perience 4Drive 110 kW (150 CV)\n",
            "16.950<span class=\"symbol\">€</span>\n",
            "Seat\n",
            "Ibiza\n",
            "IBIZA 1.2 TSI STYLE CONNECT 90CV 5P.\n",
            "9.750<span class=\"symbol\">€</span>\n",
            "Seat\n",
            "Mii\n",
            "1.0 Ecofuel GNC Style Edition Plus 50 kW (68 CV)\n",
            "9.490<span class=\"symbol\">€</span>\n",
            "Seat\n",
            "Ateca\n",
            "1.4 EcoTSI SANDS FR DSG 110 kW (150 CV)\n",
            "21.750<span class=\"symbol\">€</span>\n"
          ]
        }
      ]
    },
    {
      "cell_type": "code",
      "source": [
        "# d)\n",
        "last = vlist[-1]\n",
        "car= last.find_element(By.TAG_NAME, 'a')\n",
        "print(car.get_attribute('href'))"
      ],
      "metadata": {
        "colab": {
          "base_uri": "https://localhost:8080/"
        },
        "id": "6z0D9b9Pm_R5",
        "outputId": "9d2a947c-f603-465d-8e3a-bec9976a33e0"
      },
      "execution_count": 148,
      "outputs": [
        {
          "output_type": "stream",
          "name": "stdout",
          "text": [
            "https://www.yamovil.es/coches-segunda-mano/seat/ateca/1-4-ecotsi-sands-fr-dsg-110-kw-150-cv\n"
          ]
        }
      ]
    },
    {
      "cell_type": "code",
      "source": [
        "driver.execute_script('arguments[0].click()',last)"
      ],
      "metadata": {
        "id": "0I_lnml7dtvF"
      },
      "execution_count": 149,
      "outputs": []
    },
    {
      "cell_type": "code",
      "source": [
        "location = driver.find_element(By.CLASS_NAME, 'vehicle-header__branch').text\n",
        "print(location)\n",
        "\n",
        "driver.quit()"
      ],
      "metadata": {
        "id": "9zuzh4xztzwd",
        "colab": {
          "base_uri": "https://localhost:8080/",
          "height": 746
        },
        "outputId": "26caa5ae-72bb-43cb-cfc0-181aeea43ecd"
      },
      "execution_count": 150,
      "outputs": [
        {
          "output_type": "error",
          "ename": "NoSuchElementException",
          "evalue": "ignored",
          "traceback": [
            "\u001b[0;31m---------------------------------------------------------------------------\u001b[0m",
            "\u001b[0;31mNoSuchElementException\u001b[0m                    Traceback (most recent call last)",
            "\u001b[0;32m<ipython-input-150-bc03699a79a9>\u001b[0m in \u001b[0;36m<cell line: 1>\u001b[0;34m()\u001b[0m\n\u001b[0;32m----> 1\u001b[0;31m \u001b[0mlocation\u001b[0m \u001b[0;34m=\u001b[0m \u001b[0mdriver\u001b[0m\u001b[0;34m.\u001b[0m\u001b[0mfind_element\u001b[0m\u001b[0;34m(\u001b[0m\u001b[0mBy\u001b[0m\u001b[0;34m.\u001b[0m\u001b[0mCLASS_NAME\u001b[0m\u001b[0;34m,\u001b[0m \u001b[0;34m'vehicle-header__branch'\u001b[0m\u001b[0;34m)\u001b[0m\u001b[0;34m.\u001b[0m\u001b[0mtext\u001b[0m\u001b[0;34m\u001b[0m\u001b[0;34m\u001b[0m\u001b[0m\n\u001b[0m\u001b[1;32m      2\u001b[0m \u001b[0mprint\u001b[0m\u001b[0;34m(\u001b[0m\u001b[0mlocation\u001b[0m\u001b[0;34m)\u001b[0m\u001b[0;34m\u001b[0m\u001b[0;34m\u001b[0m\u001b[0m\n\u001b[1;32m      3\u001b[0m \u001b[0;34m\u001b[0m\u001b[0m\n\u001b[1;32m      4\u001b[0m \u001b[0mdriver\u001b[0m\u001b[0;34m.\u001b[0m\u001b[0mquit\u001b[0m\u001b[0;34m(\u001b[0m\u001b[0;34m)\u001b[0m\u001b[0;34m\u001b[0m\u001b[0;34m\u001b[0m\u001b[0m\n",
            "\u001b[0;32m/usr/local/lib/python3.10/dist-packages/selenium/webdriver/remote/webdriver.py\u001b[0m in \u001b[0;36mfind_element\u001b[0;34m(self, by, value)\u001b[0m\n\u001b[1;32m    736\u001b[0m             \u001b[0mvalue\u001b[0m \u001b[0;34m=\u001b[0m \u001b[0;34mf'[name=\"{value}\"]'\u001b[0m\u001b[0;34m\u001b[0m\u001b[0;34m\u001b[0m\u001b[0m\n\u001b[1;32m    737\u001b[0m \u001b[0;34m\u001b[0m\u001b[0m\n\u001b[0;32m--> 738\u001b[0;31m         \u001b[0;32mreturn\u001b[0m \u001b[0mself\u001b[0m\u001b[0;34m.\u001b[0m\u001b[0mexecute\u001b[0m\u001b[0;34m(\u001b[0m\u001b[0mCommand\u001b[0m\u001b[0;34m.\u001b[0m\u001b[0mFIND_ELEMENT\u001b[0m\u001b[0;34m,\u001b[0m \u001b[0;34m{\u001b[0m\u001b[0;34m\"using\"\u001b[0m\u001b[0;34m:\u001b[0m \u001b[0mby\u001b[0m\u001b[0;34m,\u001b[0m \u001b[0;34m\"value\"\u001b[0m\u001b[0;34m:\u001b[0m \u001b[0mvalue\u001b[0m\u001b[0;34m}\u001b[0m\u001b[0;34m)\u001b[0m\u001b[0;34m[\u001b[0m\u001b[0;34m\"value\"\u001b[0m\u001b[0;34m]\u001b[0m\u001b[0;34m\u001b[0m\u001b[0;34m\u001b[0m\u001b[0m\n\u001b[0m\u001b[1;32m    739\u001b[0m \u001b[0;34m\u001b[0m\u001b[0m\n\u001b[1;32m    740\u001b[0m     \u001b[0;32mdef\u001b[0m \u001b[0mfind_elements\u001b[0m\u001b[0;34m(\u001b[0m\u001b[0mself\u001b[0m\u001b[0;34m,\u001b[0m \u001b[0mby\u001b[0m\u001b[0;34m=\u001b[0m\u001b[0mBy\u001b[0m\u001b[0;34m.\u001b[0m\u001b[0mID\u001b[0m\u001b[0;34m,\u001b[0m \u001b[0mvalue\u001b[0m\u001b[0;34m:\u001b[0m \u001b[0mOptional\u001b[0m\u001b[0;34m[\u001b[0m\u001b[0mstr\u001b[0m\u001b[0;34m]\u001b[0m \u001b[0;34m=\u001b[0m \u001b[0;32mNone\u001b[0m\u001b[0;34m)\u001b[0m \u001b[0;34m->\u001b[0m \u001b[0mList\u001b[0m\u001b[0;34m[\u001b[0m\u001b[0mWebElement\u001b[0m\u001b[0;34m]\u001b[0m\u001b[0;34m:\u001b[0m\u001b[0;34m\u001b[0m\u001b[0;34m\u001b[0m\u001b[0m\n",
            "\u001b[0;32m/usr/local/lib/python3.10/dist-packages/selenium/webdriver/remote/webdriver.py\u001b[0m in \u001b[0;36mexecute\u001b[0;34m(self, driver_command, params)\u001b[0m\n\u001b[1;32m    342\u001b[0m         \u001b[0mresponse\u001b[0m \u001b[0;34m=\u001b[0m \u001b[0mself\u001b[0m\u001b[0;34m.\u001b[0m\u001b[0mcommand_executor\u001b[0m\u001b[0;34m.\u001b[0m\u001b[0mexecute\u001b[0m\u001b[0;34m(\u001b[0m\u001b[0mdriver_command\u001b[0m\u001b[0;34m,\u001b[0m \u001b[0mparams\u001b[0m\u001b[0;34m)\u001b[0m\u001b[0;34m\u001b[0m\u001b[0;34m\u001b[0m\u001b[0m\n\u001b[1;32m    343\u001b[0m         \u001b[0;32mif\u001b[0m \u001b[0mresponse\u001b[0m\u001b[0;34m:\u001b[0m\u001b[0;34m\u001b[0m\u001b[0;34m\u001b[0m\u001b[0m\n\u001b[0;32m--> 344\u001b[0;31m             \u001b[0mself\u001b[0m\u001b[0;34m.\u001b[0m\u001b[0merror_handler\u001b[0m\u001b[0;34m.\u001b[0m\u001b[0mcheck_response\u001b[0m\u001b[0;34m(\u001b[0m\u001b[0mresponse\u001b[0m\u001b[0;34m)\u001b[0m\u001b[0;34m\u001b[0m\u001b[0;34m\u001b[0m\u001b[0m\n\u001b[0m\u001b[1;32m    345\u001b[0m             \u001b[0mresponse\u001b[0m\u001b[0;34m[\u001b[0m\u001b[0;34m\"value\"\u001b[0m\u001b[0;34m]\u001b[0m \u001b[0;34m=\u001b[0m \u001b[0mself\u001b[0m\u001b[0;34m.\u001b[0m\u001b[0m_unwrap_value\u001b[0m\u001b[0;34m(\u001b[0m\u001b[0mresponse\u001b[0m\u001b[0;34m.\u001b[0m\u001b[0mget\u001b[0m\u001b[0;34m(\u001b[0m\u001b[0;34m\"value\"\u001b[0m\u001b[0;34m,\u001b[0m \u001b[0;32mNone\u001b[0m\u001b[0;34m)\u001b[0m\u001b[0;34m)\u001b[0m\u001b[0;34m\u001b[0m\u001b[0;34m\u001b[0m\u001b[0m\n\u001b[1;32m    346\u001b[0m             \u001b[0;32mreturn\u001b[0m \u001b[0mresponse\u001b[0m\u001b[0;34m\u001b[0m\u001b[0;34m\u001b[0m\u001b[0m\n",
            "\u001b[0;32m/usr/local/lib/python3.10/dist-packages/selenium/webdriver/remote/errorhandler.py\u001b[0m in \u001b[0;36mcheck_response\u001b[0;34m(self, response)\u001b[0m\n\u001b[1;32m    227\u001b[0m                 \u001b[0malert_text\u001b[0m \u001b[0;34m=\u001b[0m \u001b[0mvalue\u001b[0m\u001b[0;34m[\u001b[0m\u001b[0;34m\"alert\"\u001b[0m\u001b[0;34m]\u001b[0m\u001b[0;34m.\u001b[0m\u001b[0mget\u001b[0m\u001b[0;34m(\u001b[0m\u001b[0;34m\"text\"\u001b[0m\u001b[0;34m)\u001b[0m\u001b[0;34m\u001b[0m\u001b[0;34m\u001b[0m\u001b[0m\n\u001b[1;32m    228\u001b[0m             \u001b[0;32mraise\u001b[0m \u001b[0mexception_class\u001b[0m\u001b[0;34m(\u001b[0m\u001b[0mmessage\u001b[0m\u001b[0;34m,\u001b[0m \u001b[0mscreen\u001b[0m\u001b[0;34m,\u001b[0m \u001b[0mstacktrace\u001b[0m\u001b[0;34m,\u001b[0m \u001b[0malert_text\u001b[0m\u001b[0;34m)\u001b[0m  \u001b[0;31m# type: ignore[call-arg]  # mypy is not smart enough here\u001b[0m\u001b[0;34m\u001b[0m\u001b[0;34m\u001b[0m\u001b[0m\n\u001b[0;32m--> 229\u001b[0;31m         \u001b[0;32mraise\u001b[0m \u001b[0mexception_class\u001b[0m\u001b[0;34m(\u001b[0m\u001b[0mmessage\u001b[0m\u001b[0;34m,\u001b[0m \u001b[0mscreen\u001b[0m\u001b[0;34m,\u001b[0m \u001b[0mstacktrace\u001b[0m\u001b[0;34m)\u001b[0m\u001b[0;34m\u001b[0m\u001b[0;34m\u001b[0m\u001b[0m\n\u001b[0m",
            "\u001b[0;31mNoSuchElementException\u001b[0m: Message: no such element: Unable to locate element: {\"method\":\"css selector\",\"selector\":\".vehicle-header__branch\"}\n  (Session info: headless chrome=117.0.5938.92); For documentation on this error, please visit: https://www.selenium.dev/documentation/webdriver/troubleshooting/errors#no-such-element-exception\nStacktrace:\n#0 0x5bd94189a6b3 <unknown>\n#1 0x5bd9415701e7 <unknown>\n#2 0x5bd9415b7566 <unknown>\n#3 0x5bd9415b7651 <unknown>\n#4 0x5bd9415f4a74 <unknown>\n#5 0x5bd9415d90ed <unknown>\n#6 0x5bd9415f2322 <unknown>\n#7 0x5bd9415d8e93 <unknown>\n#8 0x5bd9415ab934 <unknown>\n#9 0x5bd9415ac71e <unknown>\n#10 0x5bd94185fcb8 <unknown>\n#11 0x5bd941863bf0 <unknown>\n#12 0x5bd94186e19c <unknown>\n#13 0x5bd941864808 <unknown>\n#14 0x5bd94183127f <unknown>\n#15 0x5bd941888e88 <unknown>\n#16 0x5bd941889059 <unknown>\n#17 0x5bd941899843 <unknown>\n#18 0x7e383710eb43 <unknown>\n"
          ]
        }
      ]
    }
  ]
}