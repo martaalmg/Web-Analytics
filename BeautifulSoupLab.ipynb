{
  "cells": [
    {
      "cell_type": "markdown",
      "metadata": {
        "id": "afwfMTuQT2O0"
      },
      "source": [
        "<img src=\"https://www.uc3m.es/ss/Satellite?blobcol=urldata&blobkey=id&blobtable=MungoBlobs&blobwhere=1371573952659\">\n",
        "\n",
        "---\n",
        "\n",
        "# WEB ANALYTICS COURSE 4 - SEMESTER 2\n",
        "# BACHELOR IN DATA SCIENCE AND ENGINEERING\n",
        "\n",
        "# LAB 1.1 WEB SCRAPING WITH BEAUTIFULSOUP\n",
        "\n",
        "---\n"
      ]
    },
    {
      "cell_type": "markdown",
      "metadata": {
        "id": "5iOYW1ilhd_V"
      },
      "source": [
        "## **Participants:**\n",
        "\n",
        "Beltran Valero 100451816\n",
        "\n",
        "Annunziata Alvaréz-Cascos 100451939\n",
        "\n",
        "Gracia Estrán 100452014\n",
        "\n",
        "Marta Almagro 100451979\n"
      ]
    },
    {
      "cell_type": "code",
      "execution_count": null,
      "metadata": {
        "colab": {
          "base_uri": "https://localhost:8080/"
        },
        "id": "-bDom5zPbbVr",
        "outputId": "6947ce79-491c-405d-b0e1-76b88cd87f98"
      },
      "outputs": [
        {
          "name": "stdout",
          "output_type": "stream",
          "text": [
            "Mounted at /content/drive\n"
          ]
        }
      ],
      "source": [
        "from google.colab import drive\n",
        "drive.mount('/content/drive')"
      ]
    },
    {
      "cell_type": "markdown",
      "metadata": {
        "id": "0NeV05Oml2dF"
      },
      "source": [
        "# 0. Lab Preparation\n",
        "\n",
        "1.  Study and have clear the concepts explained in the theoretical class and the introductory lab.\n",
        "\n",
        "2.   Gain experience with the use of the [Requests](https://docs.python-requests.org/en/master/) and [BeautifulSoup](https://www.crummy.com/software/BeautifulSoup/bs4/doc/). The exercises of this lab will be mainly based on the utilization of functions offered by these libraries.\n",
        "\n",
        "3. It is assumed students have experience in using Python notebooks. Either a local installation (e.g., local python installation + Jupyter) or a cloud-based solution (e.g., Google Colab). *We recommend the second option*."
      ]
    },
    {
      "cell_type": "markdown",
      "metadata": {
        "id": "o7WfODWPm67o"
      },
      "source": [
        "# 1. Lab Introduction\n"
      ]
    },
    {
      "cell_type": "markdown",
      "metadata": {
        "id": "MMRIv1eekgK0"
      },
      "source": [
        "* In this lab, we will implement a web scraper using the parsing library [BeautifulSoup](https://www.crummy.com/software/BeautifulSoup/bs4/doc/). One of the tools explained in the theoretical class.\n",
        "\n",
        "* The lab will be done in groups of 2 people.\n",
        "\n",
        "* The lab defines a set of milestones the students must complete. Upon completing every milestone, students should call the professor, who will check the correctness of the solution (*If the professor is busy, do not wait for them, move to the next milestone*).\n",
        "\n",
        "* **The final mark will be computed as a function of the number of milestones successfully completed.**\n",
        "\n",
        "* **Each group should also share their lab notebook with the professor upon the finalization of the lab.**\n",
        "\n",
        "* In this lab we will use the [Requests](https://docs.python-requests.org/en/master/) and [BeautifulSoup](https://www.crummy.com/software/BeautifulSoup/bs4/doc/) libraries for the creation of a web scraper, to extract information from the web. As indicated in the *Lab Preparation* section above, it is expected that students have gained experience in the use of the libraries before starting the first session of the lab.\n",
        "\n",
        "- It is recommended to use [Google Colab](https://colab.research.google.com/) to produce the Python notebook with the solution of the lab. Of course, if any student prefers using its local programming environment (e.g., jupyter) and python installation, they are welcome to do so."
      ]
    },
    {
      "cell_type": "markdown",
      "metadata": {
        "id": "9_W-5JKjoiDb"
      },
      "source": [
        "# MILESTONE 1"
      ]
    },
    {
      "cell_type": "markdown",
      "metadata": {
        "id": "aUNdR5Uroakh"
      },
      "source": [
        "a) Access to the website [BACHELOR IN DATA SCIENCE AND ENGINEERING\n",
        "](https://www.uc3m.es/bachelor-degree/data-science)"
      ]
    },
    {
      "cell_type": "code",
      "execution_count": null,
      "metadata": {
        "id": "et_kjc37yycj"
      },
      "outputs": [],
      "source": [
        "from bs4 import BeautifulSoup\n",
        "import requests\n",
        "\n",
        "url = 'https://www.uc3m.es/bachelor-degree/data-science'\n",
        "page = requests.get(url)"
      ]
    },
    {
      "cell_type": "markdown",
      "metadata": {
        "id": "eRgOA2ioobfW"
      },
      "source": [
        "b) Create the _BeautifulSoup_ object."
      ]
    },
    {
      "cell_type": "code",
      "execution_count": null,
      "metadata": {
        "id": "RJbMg_xfy9D8"
      },
      "outputs": [],
      "source": [
        "soup = BeautifulSoup(page.content , \"html.parser\")"
      ]
    },
    {
      "cell_type": "markdown",
      "metadata": {
        "id": "YiMpNYeqoeQm"
      },
      "source": [
        "c) Find the element tag with `id=\"quality\"` and print the result."
      ]
    },
    {
      "cell_type": "code",
      "execution_count": null,
      "metadata": {
        "colab": {
          "base_uri": "https://localhost:8080/"
        },
        "id": "qk1O9wzKz1lC",
        "outputId": "6d80fdfd-faf0-4983-c20d-212f591d4e1b"
      },
      "outputs": [
        {
          "data": {
            "text/plain": [
              "<div class=\"marcoParrafo\" id=\"quality\">\n",
              "<h2>Quality</h2>\n",
              "</div>"
            ]
          },
          "execution_count": 8,
          "metadata": {},
          "output_type": "execute_result"
        }
      ],
      "source": [
        "quality = soup.find(id=\"quality\")\n",
        "quality"
      ]
    },
    {
      "cell_type": "markdown",
      "metadata": {
        "id": "jaHqtiDXogAH"
      },
      "source": [
        "d) Find the `Places offered:` inside QUALITY and print the result."
      ]
    },
    {
      "cell_type": "code",
      "execution_count": null,
      "metadata": {
        "colab": {
          "base_uri": "https://localhost:8080/"
        },
        "id": "03ocAk5prJdQ",
        "outputId": "45c90c14-60dd-41f7-f16f-63fcebe3da7e"
      },
      "outputs": [
        {
          "name": "stdout",
          "output_type": "stream",
          "text": [
            "<p>Places offered:</p>\n"
          ]
        }
      ],
      "source": [
        "# Dentro del elemento 'quality', busca el párrafo que contiene 'Places offered'\n",
        "places = quality.find_parent().find_parent().find('p', string='Places offered:')\n",
        "print(places)\n"
      ]
    },
    {
      "cell_type": "markdown",
      "metadata": {
        "id": "MfJJ5jXioaeA"
      },
      "source": [
        "# MILESTONE 2"
      ]
    },
    {
      "cell_type": "markdown",
      "metadata": {
        "id": "xTIronm-v8nk"
      },
      "source": [
        "a) Obtain the link to Web Analytics course (see inside Program) by finding the corresponding href with _BeautifulSoup_."
      ]
    },
    {
      "cell_type": "code",
      "execution_count": null,
      "metadata": {
        "colab": {
          "base_uri": "https://localhost:8080/"
        },
        "id": "QSp3Zrq2b_-M",
        "outputId": "1bac5adf-ac4a-434d-8141-2ab0d8fed061"
      },
      "outputs": [
        {
          "name": "stdout",
          "output_type": "stream",
          "text": [
            "<a href=\"https://aplicaciones.uc3m.es/cpa/generaFicha?&amp;est=350&amp;plan=392&amp;asig=16507&amp;idioma=2\">Web Analytics</a>\n",
            "https://aplicaciones.uc3m.es/cpa/generaFicha?&est=350&plan=392&asig=16507&idioma=2\n"
          ]
        }
      ],
      "source": [
        "link_html = soup.find('a', string='Web Analytics')\n",
        "print(link_html)\n",
        "\n",
        "# To get just the link without the HTML tags\n",
        "link = link_html.get('href')\n",
        "print(link)"
      ]
    },
    {
      "cell_type": "markdown",
      "metadata": {
        "id": "Cm6LdWzbv9Ut"
      },
      "source": [
        "b) Access to this URL and create a new _BeautifulSoup_ object."
      ]
    },
    {
      "cell_type": "code",
      "execution_count": null,
      "metadata": {
        "id": "U8UG5eP4b_6V"
      },
      "outputs": [],
      "source": [
        "page2 = requests.get(link)\n",
        "soup2 = BeautifulSoup(page2.content , \"html.parser\")\n",
        "#soup2"
      ]
    },
    {
      "cell_type": "markdown",
      "metadata": {
        "id": "alADhgaUv-UQ"
      },
      "source": [
        "c) Print the text inside the Objectives section."
      ]
    },
    {
      "cell_type": "code",
      "execution_count": null,
      "metadata": {
        "colab": {
          "base_uri": "https://localhost:8080/"
        },
        "id": "xNMexjQxb_11",
        "outputId": "9945b8ed-385f-4d5a-a8ef-b128505da840"
      },
      "outputs": [
        {
          "name": "stdout",
          "output_type": "stream",
          "text": [
            "\n",
            "1. Students should be able to demonstrate they have acquired and understood the knowledge associated to an area that starts from high school education and reach a level that although it is based on text books, it also includes aspects that include concepts coming from up-to-date knowledge in the referread area.\n",
            "2. Students should be able to apply the acquired knowledge to their job in a professional way and should incorporate the required competences that can be shown through solid arguments and the resolution of problems within their area of study.\n",
            "3. Ability to design solutions based on automatic knowledge within applications applied to specific domains such as: recommendation systems, natural language processing, the WEB or online social networks.\n",
            "4. Ability to develop web and mobile applications and crawlers to collect data using  them.\n",
            "5. Ability to develop data visualization tools to communicate the results derived from data analysis.\n",
            "6. Adequate knowledge and skills to analyze and synthesize basic problems related to engineering and data science, solve them and communicate them efficiently\n",
            "7. Ability to solve problems with initiative, decision making, creativity, and to communicate and transmit knowledge, skills and abilities, understanding the ethical, social and professional responsibility of the data processing activity. Leadership capacity, innovation and entrepreneurial spirit\n",
            "8. Ability to communicate knowledge orally and in writing to both specialised and non-specialised audiences\n",
            "9. Students should have acquired advanced knowledge and demonstrated an understanding of the theoretical and practical aspects and working\n",
            "methodology in the field of data science and engineering with a depth that reaches the forefront of knowledge\n",
            "10. Be capable of applying their knowledge and problem-solving skills, through arguments or procedures developed and sustained by themselves, in\n",
            "complex or professional and specialized work settings that require the use of creative and innovative ideas.\n",
            "11. Have the ability to collect and interpret data and information on which to base their conclusions including, where appropriate and pertinent, reflection on issues of a social, scientific or ethical nature within their field of study\n",
            "\n",
            "\n"
          ]
        }
      ],
      "source": [
        "# Objectives = soup2.find(string='Objectives').find_parent().find_parent().text --> no porque pone solo texto dentro de Objectives\n",
        "Objectives = soup2.find(string='Objectives').find_parent().find_next_sibling().text\n",
        "print(Objectives)"
      ]
    },
    {
      "cell_type": "markdown",
      "metadata": {
        "id": "LvWXdKNY23Yw"
      },
      "source": [
        "# MILESTONE 3\n",
        "\n",
        "Now let's build the first steps for a price monitoring website. For that, we are going to use yamovil.com to obtain car prices. Specifically, we want to find SEAT cars in Madrid and the price of each of them.\n",
        "\n",
        "Follow these steps:\n",
        "\n"
      ]
    },
    {
      "cell_type": "markdown",
      "metadata": {
        "id": "uZ3kowqRIoIT"
      },
      "source": [
        "a) Check https://www.yamovil.es/robots.txt and see if the site can be crawled or not for our specific search. Explain."
      ]
    },
    {
      "cell_type": "code",
      "execution_count": null,
      "metadata": {
        "colab": {
          "base_uri": "https://localhost:8080/"
        },
        "id": "wZ8GKqx9DH6h",
        "outputId": "f70ba2f9-9120-432f-bf22-a8e3b801a57a"
      },
      "outputs": [
        {
          "data": {
            "text/plain": [
              "# www.robotstxt.org/\n",
              "# www.google.com/support/webmasters/bin/answer.py?hl=en&amp;answer=156449\n",
              "\n",
              "User-agent: *\n",
              "Disallow: /admin/\n",
              "Disallow: /feed/\n",
              "Disallow: /goal/\n",
              "Disallow: /sobre-coches-y-concesionarios/category/\n",
              "Disallow: /sobre-coches-y-concesionarios/articulos/\n",
              "Disallow: /sobre-coches-y-concesionarios/author/"
            ]
          },
          "execution_count": 19,
          "metadata": {},
          "output_type": "execute_result"
        }
      ],
      "source": [
        "url3 = 'https://www.yamovil.es/robots.txt'\n",
        "page3 = requests.get(url3)\n",
        "soup3 = BeautifulSoup(page3.content , \"html.parser\")\n",
        "soup3\n"
      ]
    },
    {
      "cell_type": "markdown",
      "metadata": {
        "id": "9nJ9ZX2qL_b6"
      },
      "source": [
        "After getting the information provided in the robots.txt file, we can confirm that we should be able to crawl SEAT car prices since the only directories that are blocked are related with administrative purposes and there is nothing that mention and disallows SEAT car prices\n"
      ]
    },
    {
      "cell_type": "markdown",
      "metadata": {
        "id": "HlFDhR3IIp61"
      },
      "source": [
        "b) If yes, use this [URL](https://www.yamovil.es/coches-segunda-mano/seat-ocasion-en-madrid) which already includes the indicated search (SEAT Cars Madrid Second Hand), scrape the HTML using _BeautifulSoup_, and print the **mark**, **model**, **version** and **price** of each available car.\n",
        "\n",
        "**HINT:** The resulting list should have 30 cars (which are the ones that appear in the first page)"
      ]
    },
    {
      "cell_type": "code",
      "execution_count": null,
      "metadata": {
        "id": "UvC5-azycBkh"
      },
      "outputs": [],
      "source": [
        "url4 = 'https://www.yamovil.es/coches-segunda-mano/seat-ocasion-en-madrid' # URL given\n",
        "page4 = requests.get(url4)\n",
        "soup4 = BeautifulSoup(page4.content , \"html.parser\")\n",
        "soup4"
      ]
    },
    {
      "cell_type": "code",
      "execution_count": null,
      "metadata": {
        "colab": {
          "base_uri": "https://localhost:8080/"
        },
        "id": "FyKkKXzwcBht",
        "outputId": "e88f9f49-c2c2-4c80-b661-21214420ed35"
      },
      "outputs": [
        {
          "data": {
            "text/plain": [
              "bs4.element.ResultSet"
            ]
          },
          "execution_count": 24,
          "metadata": {},
          "output_type": "execute_result"
        }
      ],
      "source": [
        "# Find all the vehicle cards\n",
        "vehicle_cards = soup4.find_all('div', class_='vehicle-card')\n",
        "type(vehicle_cards)"
      ]
    },
    {
      "cell_type": "code",
      "execution_count": null,
      "metadata": {
        "colab": {
          "base_uri": "https://localhost:8080/"
        },
        "id": "5nb54axmP8Uo",
        "outputId": "9b15d088-a589-452e-cfc8-36dc10b8643a"
      },
      "outputs": [
        {
          "name": "stdout",
          "output_type": "stream",
          "text": [
            "Mark: Seat\n",
            "Model: Ibiza\n",
            "Version: 1.0 EcoTSI Style 70 kW (95 CV)\n",
            "Price: 11.950€\n",
            "====================\n",
            "Mark: Seat\n",
            "Model: Leon ST\n",
            "Version: LEON ST 2.0 TDI 150CV FR 5P.\n",
            "Price: 15.450€\n",
            "====================\n",
            "Mark: Seat\n",
            "Model: Arona\n",
            "Version: 1.0 TSI Style 81 kW (110 CV)\n",
            "Price: 14.950€\n",
            "====================\n",
            "Mark: Seat\n",
            "Model: Leon\n",
            "Version: 1.5 TSI SANDS FR Edition 96 kW (130 CV)\n",
            "Price: 17.950€\n",
            "====================\n",
            "Mark: Seat\n",
            "Model: Leon ST\n",
            "Version: 1.5 EcoTSI SANDS FR Fast Edition Plus DSG 110 kW (150 CV)\n",
            "Price: 21.650€\n",
            "====================\n",
            "Mark: Seat\n",
            "Model: Ateca\n",
            "Version: 2.0 TDI SANDS Xcellence 4Drive 110 kW (150 CV)\n",
            "Price: 17.850€\n",
            "====================\n",
            "Mark: Seat\n",
            "Model: Ibiza\n",
            "Version: 1.6 TDI Reference 66 kW (90 CV)\n",
            "Price: 8.900€\n",
            "====================\n",
            "Mark: Seat\n",
            "Model: Leon\n",
            "Version: 1.5 TSI SANDS FR 110 kW (150 CV)\n",
            "Price: 19.950€\n",
            "====================\n",
            "Mark: Seat\n",
            "Model: Ibiza\n",
            "Version: 1.2 TSI Style 66 kW (90 CV)\n",
            "Price: 10.950€\n",
            "====================\n",
            "Mark: Seat\n",
            "Model: Ibiza\n",
            "Version: TSI 90CV 5P PACK LL/AA\n",
            "Price: 9.950€\n",
            "====================\n",
            "Mark: Seat\n",
            "Model: Ibiza\n",
            "Version: 1.0 TGI GNC SANDS Style 66 kW (90 CV)\n",
            "Price: 10.450€\n",
            "====================\n",
            "Mark: Seat\n",
            "Model: Ibiza\n",
            "Version: 1.4 TDI CR SANDS Reference 66 kW (90 CV)\n",
            "Price: 9.950€\n",
            "====================\n",
            "Mark: Seat\n",
            "Model: Arona\n",
            "Version: SEAT ARONA 1.0 TSI 95 CV STYLE 5P\n",
            "Price: 15.450€\n",
            "====================\n",
            "Mark: Seat\n",
            "Model: Leon ST\n",
            "Version: 2.0 TSI SANDS Cupra 221 kW (300 CV)\n",
            "Price: 24.950€\n",
            "====================\n",
            "Mark: Seat\n",
            "Model: Leon\n",
            "Version: 2.0 TDI SANDS Xcellence 110 kW (150 CV)\n",
            "Price: 15.750€\n",
            "====================\n",
            "Mark: Seat\n",
            "Model: Leon\n",
            "Version: 2.0 TDI SANDS FR Plus 110 kW (150 CV)\n",
            "Price: 19.990€\n",
            "====================\n",
            "Mark: Seat\n",
            "Model: Exeo\n",
            "Version: 2.0 TDI CR Style Multitronic 105 kW (143 CV)\n",
            "Price: 10.950€\n",
            "====================\n",
            "Mark: Seat\n",
            "Model: Leon ST\n",
            "Version: 1.4 TSI ACT SANDS FR DSG7 110 kW (150 CV)\n",
            "Price: 17.990€\n",
            "====================\n",
            "Mark: Seat\n",
            "Model: Ibiza\n",
            "Version: 1.2 TSI SANDS FR 66 kW (90 CV)\n",
            "Price: 14.400€\n",
            "====================\n",
            "Mark: Seat\n",
            "Model: Arona\n",
            "Version: 1.0 TSI Ecomotive Reference Plus 70 kW (95 CV)\n",
            "Price: 12.950€\n",
            "====================\n",
            "Mark: Seat\n",
            "Model: Leon SC\n",
            "Version: 1.4 TSI SANDS FR 92 kW (125 CV)\n",
            "Price: 16.990€\n",
            "====================\n",
            "Mark: Seat\n",
            "Model: Mii\n",
            "Version: 1.0 Cosmopolitan Top 55 kW (75 CV)\n",
            "Price: 9.450€\n",
            "====================\n",
            "Mark: Seat\n",
            "Model: Ibiza\n",
            "Version: 1.6 TDI CR SANDS Style 70 kW (95 CV)\n",
            "Price: 12.950€\n",
            "====================\n",
            "Mark: Seat\n",
            "Model: Leon\n",
            "Version: 2.0 TDI SANDS FR 110 kW (150 CV)\n",
            "Price: 16.650€\n",
            "====================\n",
            "Mark: Seat\n",
            "Model: Leon ST\n",
            "Version: 2.0 TDI SANDS FR Fast Edition DSG 110 kW (150 CV)\n",
            "Price: 23.950€\n",
            "====================\n",
            "Mark: Seat\n",
            "Model: Ateca\n",
            "Version: 1.5 TSI SANDS X-Perience 110 kW (150 CV)\n",
            "Price: 23.950€\n",
            "====================\n",
            "Mark: Seat\n",
            "Model: Leon Xperience\n",
            "Version: 2.0 TDI SANDS X-perience 4Drive 110 kW (150 CV)\n",
            "Price: 16.950€\n",
            "====================\n",
            "Mark: Seat\n",
            "Model: Ibiza\n",
            "Version: IBIZA 1.2 TSI STYLE CONNECT 90CV 5P.\n",
            "Price: 9.750€\n",
            "====================\n",
            "Mark: Seat\n",
            "Model: Mii\n",
            "Version: 1.0 Ecofuel GNC Style Edition Plus 50 kW (68 CV)\n",
            "Price: 9.490€\n",
            "====================\n",
            "Mark: Seat\n",
            "Model: Ateca\n",
            "Version: 1.4 EcoTSI SANDS FR DSG 110 kW (150 CV)\n",
            "Price: 21.750€\n",
            "====================\n"
          ]
        }
      ],
      "source": [
        "for card in vehicle_cards:\n",
        "    # Extract the mark\n",
        "    mark = card.find('span', class_='make').text.strip()\n",
        "    # Extract the model\n",
        "    model = card.find('span', class_='model').text.strip()\n",
        "    # Extract the version\n",
        "    version = card.find('span', class_='version').text.strip()\n",
        "    # Extract the price\n",
        "    price_tag = card.find('a', class_='vehicle-card__title')\n",
        "    price = price_tag.find_next('div', class_='price').text.strip()\n",
        "\n",
        "    # Print each car information\n",
        "    print(\"Mark: \", mark)\n",
        "    print(\"Model: \", model)\n",
        "    print(\"Version: \", version)\n",
        "    print(\"Price: \", price)\n",
        "    print(\"====================\")\n"
      ]
    }
  ],
  "metadata": {
    "colab": {
      "provenance": []
    },
    "kernelspec": {
      "display_name": "Python 3",
      "language": "python",
      "name": "python3"
    },
    "language_info": {
      "codemirror_mode": {
        "name": "ipython",
        "version": 3
      },
      "file_extension": ".py",
      "mimetype": "text/x-python",
      "name": "python",
      "nbconvert_exporter": "python",
      "pygments_lexer": "ipython3",
      "version": "3.8.8"
    }
  },
  "nbformat": 4,
  "nbformat_minor": 0
}
